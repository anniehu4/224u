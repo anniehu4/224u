{
 "cells": [
  {
   "cell_type": "code",
   "execution_count": 1,
   "metadata": {},
   "outputs": [],
   "source": [
    "import pickle\n",
    "import os\n",
    "import sys\n",
    "from collections import Counter\n",
    "from utils import strip_starter_code"
   ]
  },
  {
   "cell_type": "code",
   "execution_count": 2,
   "metadata": {},
   "outputs": [],
   "source": [
    "holdout = False \n",
    "TRAIN_FILE = 'data/%strain.pkl' % ('holdout-' if holdout else '')\n",
    "DEV_FILE = 'data/%sdev.pkl' % ('holdout-' if holdout else '')\n",
    "STARTER_DATA_DIR= 'finalWin18'"
   ]
  },
  {
   "cell_type": "code",
   "execution_count": 3,
   "metadata": {},
   "outputs": [
    {
     "data": {
      "text/plain": [
       "'data/train.pkl'"
      ]
     },
     "execution_count": 3,
     "metadata": {},
     "output_type": "execute_result"
    }
   ],
   "source": [
    "TRAIN_FILE"
   ]
  },
  {
   "cell_type": "code",
   "execution_count": 4,
   "metadata": {},
   "outputs": [
    {
     "data": {
      "text/plain": [
       "'data/dev.pkl'"
      ]
     },
     "execution_count": 4,
     "metadata": {},
     "output_type": "execute_result"
    }
   ],
   "source": [
    "DEV_FILE"
   ]
  },
  {
   "cell_type": "code",
   "execution_count": 5,
   "metadata": {},
   "outputs": [],
   "source": [
    "train_data = pickle.load(open(TRAIN_FILE, 'rb'))\n",
    "dev_data = pickle.load(open(DEV_FILE, 'rb'))"
   ]
  },
  {
   "cell_type": "code",
   "execution_count": 6,
   "metadata": {},
   "outputs": [
    {
     "data": {
      "text/plain": [
       "5873"
      ]
     },
     "execution_count": 6,
     "metadata": {},
     "output_type": "execute_result"
    }
   ],
   "source": [
    "len(train_data)"
   ]
  },
  {
   "cell_type": "code",
   "execution_count": 7,
   "metadata": {},
   "outputs": [],
   "source": [
    "questions = set([q['question'] for q in train_data])"
   ]
  },
  {
   "cell_type": "code",
   "execution_count": 8,
   "metadata": {},
   "outputs": [
    {
     "data": {
      "text/plain": [
       "{'1-cs106aMidWin18',\n",
       " '1a-cs106aFinalWin18',\n",
       " '1a-cs106aMidSpr18',\n",
       " '1b-cs106aFinalWin18',\n",
       " '1b-cs106aMidSpr18',\n",
       " '1c-cs106aFinalWin18',\n",
       " '1d-cs106aFinalWin18',\n",
       " '2-cs106aFinalWin18',\n",
       " '2-cs106aMidWin18',\n",
       " '2a-cs106aMidSpr18',\n",
       " '2b-cs106aMidSpr18',\n",
       " '2c-cs106aMidSpr18',\n",
       " '3-cs106aMidSpr18',\n",
       " '3-cs106aMidWin18',\n",
       " '3a-cs106aFinalWin18',\n",
       " '3b-cs106aFinalWin18',\n",
       " '4-cs106aFinalWin18',\n",
       " '4-cs106aMidSpr18',\n",
       " '4-cs106aMidWin18',\n",
       " '5-cs106aFinalWin18',\n",
       " '5-cs106aMidSpr18',\n",
       " '5-cs106aMidWin18',\n",
       " '6-cs106aFinalWin18',\n",
       " '7-cs106aFinalWin18'}"
      ]
     },
     "execution_count": 8,
     "metadata": {},
     "output_type": "execute_result"
    }
   ],
   "source": [
    "questions"
   ]
  },
  {
   "cell_type": "code",
   "execution_count": 9,
   "metadata": {},
   "outputs": [],
   "source": [
    "exam_with_label = 'FinalWin18'"
   ]
  },
  {
   "cell_type": "code",
   "execution_count": 10,
   "metadata": {},
   "outputs": [
    {
     "name": "stdout",
     "output_type": "stream",
     "text": [
      "3198\n",
      "Counter({'4': 301, '1a': 300, '3b': 298, '7': 291, '1b': 290, '1d': 290, '3a': 288, '2': 286, '1c': 285, '6': 285, '5': 284})\n"
     ]
    }
   ],
   "source": [
    "i = 0\n",
    "c = Counter()\n",
    "for row in train_data:\n",
    "    question = row['question']\n",
    "    if exam_with_label in question:\n",
    "        #print(question)\n",
    "        i += 1\n",
    "        answer = row['answer']\n",
    "        answer = answer.split('\\n')\n",
    "        answer = list(filter(None, answer)) # fastest\n",
    "        \n",
    "        question_num = question.split('-')[0]\n",
    "        c[question_num] += 1\n",
    "        starter_code_path = os.path.join(STARTER_DATA_DIR, '{}.txt'.format(question_num))\n",
    "        with open(starter_code_path) as f:\n",
    "            content = f.readlines()\n",
    "        content = [x.rstrip() for x in content] \n",
    "        content = list(filter(None, content)) # fastest\n",
    "        \n",
    "        for line in content:\n",
    "            if line in answer:\n",
    "                answer.remove(line)\n",
    "                \n",
    "print(i)\n",
    "print(c)\n",
    "\n",
    "        "
   ]
  },
  {
   "cell_type": "code",
   "execution_count": 11,
   "metadata": {},
   "outputs": [
    {
     "data": {
      "text/plain": [
       "{'answer': 'C)\\npublic void run() {\\n\\tfor (i = 200, i <= 400 ; i++) {\\n\\t    int num = 300 - i;\\n\\t    println(num);\\n\\t}\\n}',\n",
       " 'comment': 'minor: forgot to declare int inside for loop\\nsyntax: used comma in for loop instead of semicolon',\n",
       " 'question': '2c-cs106aMidSpr18',\n",
       " 'rubric': {'generalDeduction': '1', 'simple-loop': 2},\n",
       " 'score': 7.0,\n",
       " 'scoreNormalized': 0.7}"
      ]
     },
     "execution_count": 11,
     "metadata": {},
     "output_type": "execute_result"
    }
   ],
   "source": [
    "train_data[9]"
   ]
  },
  {
   "cell_type": "code",
   "execution_count": 12,
   "metadata": {},
   "outputs": [],
   "source": [
    "a = strip_starter_code(train_data)"
   ]
  },
  {
   "cell_type": "code",
   "execution_count": null,
   "metadata": {},
   "outputs": [],
   "source": []
  },
  {
   "cell_type": "code",
   "execution_count": null,
   "metadata": {},
   "outputs": [],
   "source": []
  },
  {
   "cell_type": "code",
   "execution_count": null,
   "metadata": {},
   "outputs": [],
   "source": []
  }
 ],
 "metadata": {
  "kernelspec": {
   "display_name": "Python 3",
   "language": "python",
   "name": "python3"
  },
  "language_info": {
   "codemirror_mode": {
    "name": "ipython",
    "version": 3
   },
   "file_extension": ".py",
   "mimetype": "text/x-python",
   "name": "python",
   "nbconvert_exporter": "python",
   "pygments_lexer": "ipython3",
   "version": "3.6.4"
  }
 },
 "nbformat": 4,
 "nbformat_minor": 2
}
