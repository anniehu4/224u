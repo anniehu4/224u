{
 "cells": [
  {
   "cell_type": "code",
   "execution_count": 1,
   "metadata": {},
   "outputs": [],
   "source": [
    "import pickle\n",
    "import os\n",
    "from utils import *\n",
    "import torch\n",
    "from torch.utils.data import Dataset, DataLoader\n",
    "from data_loader import *\n",
    "import torch.nn as nn\n",
    "from pytorch_model import test\n",
    "from sklearn import metrics\n",
    "import matplotlib.pyplot as plt\n",
    "from model.architecture import Net, RNN\n",
    "from sklearn.manifold import TSNE"
   ]
  },
  {
   "cell_type": "code",
   "execution_count": 2,
   "metadata": {},
   "outputs": [],
   "source": [
    "TEST_FILE = 'data/holdout-test.pkl'"
   ]
  },
  {
   "cell_type": "code",
   "execution_count": 3,
   "metadata": {},
   "outputs": [],
   "source": [
    "test_data = pickle.load(open(TEST_FILE, 'rb'))"
   ]
  },
  {
   "cell_type": "code",
   "execution_count": 37,
   "metadata": {},
   "outputs": [],
   "source": [
    "########### ONLY NEED TO USE THESE\n",
    "strip = True\n",
    "classify = False\n",
    "collate_fn = \"sum\" # \"avg\"\n",
    "use_spellcheck = False\n",
    "model_pth = 'saved_models/nn-reg.model'\n",
    "###########\n",
    "\n",
    "remove_numbers = False"
   ]
  },
  {
   "cell_type": "code",
   "execution_count": 38,
   "metadata": {},
   "outputs": [],
   "source": [
    "normalize = True\n",
    "test_answers, test_scores = prepare_data(test_data, normalize, strip)"
   ]
  },
  {
   "cell_type": "code",
   "execution_count": 39,
   "metadata": {},
   "outputs": [],
   "source": [
    "glove_dim = 200\n",
    "glove_home = os.path.join('vsmdata', 'glove.6B')\n",
    "glove_lookup = glove2dict(os.path.join(glove_home, 'glove.6B.%dd.txt' % glove_dim))"
   ]
  },
  {
   "cell_type": "code",
   "execution_count": 40,
   "metadata": {},
   "outputs": [],
   "source": [
    "test_x = []\n",
    "\n",
    "for test_answer in test_answers:\n",
    "    features = process(test_answer, glove_lookup, remove_numbers, use_spellcheck)\n",
    "    features = embed(features, glove_lookup, dim=glove_dim, collate_fn=collate_fn)\n",
    "    #if not isinstance(features, float):\n",
    "    test_x.append(features)"
   ]
  },
  {
   "cell_type": "code",
   "execution_count": 41,
   "metadata": {},
   "outputs": [],
   "source": [
    "# We want to use the classify model\n",
    "threshold = 1.0\n",
    "if classify:\n",
    "    test_y = np.array([1.0 if x >= threshold else 0.0 for x in test_scores])\n",
    "else:\n",
    "    test_y = test_scores"
   ]
  },
  {
   "cell_type": "code",
   "execution_count": 42,
   "metadata": {},
   "outputs": [
    {
     "name": "stdout",
     "output_type": "stream",
     "text": [
      "(362, 200) (362, 1)\n"
     ]
    }
   ],
   "source": [
    "test_x = np.array(test_x)\n",
    "test_y = test_y.reshape(-1, 1)\n",
    "print(test_x.shape, test_y.shape)"
   ]
  },
  {
   "cell_type": "code",
   "execution_count": 43,
   "metadata": {},
   "outputs": [],
   "source": [
    "SEED = 1\n",
    "NO_CUDA = False\n",
    "BATCH_SIZE = 10"
   ]
  },
  {
   "cell_type": "code",
   "execution_count": 44,
   "metadata": {},
   "outputs": [],
   "source": [
    "use_cuda = not NO_CUDA and torch.cuda.is_available()\n",
    "\n",
    "torch.manual_seed(SEED)\n",
    "\n",
    "device = torch.device(\"cuda\" if use_cuda else \"cpu\")\n",
    "\n",
    "kwargs = {'num_workers': 1, 'pin_memory': True} if use_cuda else {}\n",
    "\n",
    "test_loader = DataLoader(\n",
    "    BowDataset(test_x, test_y),\n",
    "    batch_size=BATCH_SIZE, shuffle=True)\n",
    "\n",
    "n_features = test_x.shape[1]\n",
    "\n",
    "if classify:\n",
    "    criterion = nn.BCELoss()\n",
    "else:\n",
    "    criterion = nn.MSELoss()"
   ]
  },
  {
   "cell_type": "code",
   "execution_count": 45,
   "metadata": {},
   "outputs": [],
   "source": [
    "model = Net(n_features, classify).to(device)\n",
    "model.load_state_dict(torch.load(model_pth))"
   ]
  },
  {
   "cell_type": "code",
   "execution_count": 46,
   "metadata": {},
   "outputs": [
    {
     "name": "stdout",
     "output_type": "stream",
     "text": [
      "Test loss: 0.06282040476799011 Test r2: 0.07820565833022564\n"
     ]
    }
   ],
   "source": [
    "test_true, test_pred, _, embeds = test(model, device, test_loader, criterion, classify)"
   ]
  },
  {
   "cell_type": "code",
   "execution_count": 47,
   "metadata": {},
   "outputs": [
    {
     "name": "stdout",
     "output_type": "stream",
     "text": [
      "Test r2 0.07820565833022564\n"
     ]
    }
   ],
   "source": [
    "if classify:\n",
    "    metric = metrics.precision_recall_fscore_support(test_true, test_pred)\n",
    "    print(metric)\n",
    "    print(\"Test precision {} recall {} f1{}\".format(metric[0], metric[1], metric[2]))\n",
    "else:\n",
    "    metric = metrics.r2_score(test_true, test_pred)\n",
    "    print(\"Test r2 {}\".format(metric))"
   ]
  },
  {
   "cell_type": "code",
   "execution_count": 48,
   "metadata": {},
   "outputs": [
    {
     "name": "stdout",
     "output_type": "stream",
     "text": [
      "<class 'numpy.ndarray'>\n",
      "(362, 50)\n"
     ]
    }
   ],
   "source": [
    "embeds = np.array(embeds)\n",
    "print(type(embeds))\n",
    "print(embeds.shape) # want (372, 50)"
   ]
  },
  {
   "cell_type": "code",
   "execution_count": 49,
   "metadata": {},
   "outputs": [
    {
     "name": "stdout",
     "output_type": "stream",
     "text": [
      "(362, 2)\n"
     ]
    }
   ],
   "source": [
    "X_embedded = TSNE(n_components=2).fit_transform(embeds)\n",
    "print(X_embedded.shape) # want (372, 2)"
   ]
  },
  {
   "cell_type": "code",
   "execution_count": 50,
   "metadata": {},
   "outputs": [],
   "source": [
    "#indices_nonzero = np.nonzero(train_scores)\n",
    "zero_indices = np.argwhere(test_scores.squeeze() != 1)\n",
    "one_indices = np.argwhere(test_scores.squeeze() == 1)"
   ]
  },
  {
   "cell_type": "code",
   "execution_count": 51,
   "metadata": {},
   "outputs": [
    {
     "name": "stdout",
     "output_type": "stream",
     "text": [
      "Zero t-sne shape: (314, 2)\n",
      "One t-sne shape: (48, 2)\n"
     ]
    }
   ],
   "source": [
    "X_embedded_zero = X_embedded[zero_indices].squeeze()\n",
    "X_embedded_one = X_embedded[one_indices].squeeze()\n",
    "print(\"Zero t-sne shape:\", X_embedded_zero.shape) # Should be (314, 2)\n",
    "print(\"One t-sne shape:\", X_embedded_one.shape) # Should be (48, 2)"
   ]
  },
  {
   "cell_type": "code",
   "execution_count": 52,
   "metadata": {},
   "outputs": [
    {
     "data": {
      "text/plain": [
       "<matplotlib.collections.PathCollection at 0x1a1e44a7f0>"
      ]
     },
     "execution_count": 52,
     "metadata": {},
     "output_type": "execute_result"
    },
    {
     "data": {
      "image/png": "[encoded data removed]",
      "text/plain": [
       "<matplotlib.figure.Figure at 0x1a10fe5978>"
      ]
     },
     "metadata": {},
     "output_type": "display_data"
    }
   ],
   "source": [
    "plt.scatter(X_embedded_zero[:,  0],  X_embedded_zero[:,  1],  color='b', label='blue')\n",
    "plt.scatter(X_embedded_one[:,  0],  X_embedded_one[:,  1],  color='r', label='red')"
   ]
  },
  {
   "cell_type": "code",
   "execution_count": null,
   "metadata": {},
   "outputs": [],
   "source": []
  },
  {
   "cell_type": "code",
   "execution_count": null,
   "metadata": {},
   "outputs": [],
   "source": []
  }
 ],
 "metadata": {
  "kernelspec": {
   "display_name": "Python 3",
   "language": "python",
   "name": "python3"
  },
  "language_info": {
   "codemirror_mode": {
    "name": "ipython",
    "version": 3
   },
   "file_extension": ".py",
   "mimetype": "text/x-python",
   "name": "python",
   "nbconvert_exporter": "python",
   "pygments_lexer": "ipython3",
   "version": "3.6.4"
  }
 },
 "nbformat": 4,
 "nbformat_minor": 2
}
